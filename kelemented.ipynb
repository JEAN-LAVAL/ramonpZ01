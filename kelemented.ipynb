{
 "cells": [
  {
   "cell_type": "code",
   "execution_count": null,
   "metadata": {},
   "outputs": [],
   "source": [
    "#kthelemented\n",
    "import numpy as np\n",
    "def find_kth_element(items,k):\n",
    "     a=np.array([items])\n",
    "     \n",
    "     print(a)\n",
    "     print(a[0,k])\n",
    "     return\n",
    "\n",
    "def find_m_kth_elements(items, k, m):\n",
    "     \n",
    "     # find and return m elements in items starting at index k \n",
    "     return\n",
    "find_kth_element([3,7,4],1)\n",
    "find_kth_element([3,7,4],2)\n",
    "print([])"
   ]
  }
 ],
 "metadata": {
  "kernelspec": {
   "display_name": "Python 3",
   "language": "python",
   "name": "python3"
  },
  "language_info": {
   "codemirror_mode": {
    "name": "ipython",
    "version": 3
   },
   "file_extension": ".py",
   "mimetype": "text/x-python",
   "name": "python",
   "nbconvert_exporter": "python",
   "pygments_lexer": "ipython3",
   "version": "3.7.6"
  }
 },
 "nbformat": 4,
 "nbformat_minor": 4
}
