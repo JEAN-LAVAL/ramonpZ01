{
 "cells": [
  {
   "cell_type": "markdown",
   "metadata": {},
   "source": [
    "# Mini-Assessment for Lesson 4"
   ]
  },
  {
   "cell_type": "markdown",
   "metadata": {},
   "source": [
    "# Exercise 1\n",
    "\n",
    "- Pick a dataset from the ones in Lesson 4 in Canvas.\n",
    "- Inspect it with the command line before loading it into memory.\n",
    "- Load it into your session and with any modifications available upon first inspection."
   ]
  },
  {
   "cell_type": "markdown",
   "metadata": {},
   "source": [
    "# Exercise 2\n",
    "\n",
    "- Use different methods to inspect the data after loading it"
   ]
  },
  {
   "cell_type": "markdown",
   "metadata": {},
   "source": [
    "# Exercise 3\n",
    "\n",
    "Prepare the dataset for analysis.\n",
    "- Make the columns lowercase\n",
    "- Create new dates variables\n",
    "- Deal with the missing values"
   ]
  },
  {
   "cell_type": "markdown",
   "metadata": {},
   "source": [
    "# Exercise 4\n",
    "\n",
    "- Create a histogram from a quantitative variable using matplotlib\n",
    "- Label its axes\n",
    "- Give it a title"
   ]
  },
  {
   "cell_type": "markdown",
   "metadata": {},
   "source": [
    "# Exercise 5\n",
    "\n",
    "- Create a histogram with two quantitative variables using matplotlib\n",
    "- Label its axes\n",
    "- Give it a title\n",
    "- Adjust the transparency\n",
    "- Adjust the color"
   ]
  },
  {
   "cell_type": "markdown",
   "metadata": {},
   "source": [
    "# Exercise 6\n",
    "\n",
    "- Write a short explanation of the dataset (a paragraph or two)\n",
    "- Write a short explanation of the inconsistencies you found in the data and how you dealt with them (a paragraph or two)\n",
    "- Write 5 questions that sound interesting to you and that could be explored"
   ]
  },
  {
   "cell_type": "markdown",
   "metadata": {},
   "source": [
    "# Exercise 7\n",
    "\n",
    "- Plot the relationship between two variables using matplotlib\n",
    "- label the axes\n",
    "- Give it a title"
   ]
  },
  {
   "cell_type": "markdown",
   "metadata": {},
   "source": [
    "# Exercise 8\n",
    "\n",
    "- Create a scatter plot using seaborn\n",
    "- Label its axes\n",
    "- Give it a title"
   ]
  },
  {
   "cell_type": "markdown",
   "metadata": {},
   "source": [
    "# Exercise 9\n",
    "\n",
    "- Create a scatter plot using seaborn\n",
    "- Add a categorical variable as the color\n",
    "- Label its axes\n",
    "- Give it a title"
   ]
  },
  {
   "cell_type": "markdown",
   "metadata": {},
   "source": [
    "# Exercise 10\n",
    "\n",
    "- Filter your dataset with a desired criterion\n",
    "- Create a bar plot with seaborn\n",
    "- Adjust the color\n",
    "- Label its axes\n",
    "- Give it a title"
   ]
  },
  {
   "cell_type": "markdown",
   "metadata": {},
   "source": [
    "# Exercise 11\n",
    "\n",
    "- Create a boxplot using seaborn\n",
    "- Label its axes\n",
    "- Give it a title"
   ]
  },
  {
   "cell_type": "markdown",
   "metadata": {},
   "source": [
    "# Exercise 12\n",
    "\n",
    "- Crate an interactive chart with a scatterplot using bokeh\n",
    "- Save the figure"
   ]
  },
  {
   "cell_type": "markdown",
   "metadata": {},
   "source": [
    "# Exercise 13\n",
    "\n",
    "- Crate an interactive chart of your choosing using bokeh\n",
    "- Save the figure"
   ]
  },
  {
   "cell_type": "markdown",
   "metadata": {},
   "source": [
    "# Exercise 14\n",
    "\n",
    "- Create a separate folder for your mini-assessment and move your files there. Make sure this folder is inside the repository you created for this course\n",
    "- Create a README file that explains what you are doing to and with the dataset"
   ]
  },
  {
   "cell_type": "markdown",
   "metadata": {},
   "source": [
    "# Exercise 15\n",
    "\n",
    "- Add the new folder with your notebook and README file to your repository\n",
    "- Commit and push changes to your repository\n",
    "- Send the link to your repository to a classmate and with a kind note requesting feedback"
   ]
  }
 ],
 "metadata": {
  "kernelspec": {
   "display_name": "Python 3",
   "language": "python",
   "name": "python3"
  },
  "language_info": {
   "codemirror_mode": {
    "name": "ipython",
    "version": 3
   },
   "file_extension": ".py",
   "mimetype": "text/x-python",
   "name": "python",
   "nbconvert_exporter": "python",
   "pygments_lexer": "ipython3",
   "version": "3.7.6"
  }
 },
 "nbformat": 4,
 "nbformat_minor": 4
}
