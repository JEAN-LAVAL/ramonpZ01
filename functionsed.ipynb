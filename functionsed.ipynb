{
 "cells": [
  {
   "cell_type": "code",
   "execution_count": null,
   "metadata": {},
   "outputs": [],
   "source": [
    "#functions.py\n",
    "#from random import seed\n",
    "from random import randint\n",
    "def make_me_a_better_offer(old_offer):\n",
    "    # ...\n",
    "    # ...\n",
    "#    seed(old_offer)\n",
    "#seed random number generator\n",
    "  #  seed(1)\n",
    "#    p=1\n",
    "        value=randint(0,old_offer)\n",
    "#    print(value)\n",
    "#    for p in range(old_offer):\n",
    "#    for p in range(10):\n",
    "#        value=randint(1,old_offer)\n",
    "        \n",
    "   #     p=p+1\n",
    "   #     print (p)\n",
    "       # print (value)\n",
    "        value=randint(0,old_offer)\n",
    "        return value#... something ...\n",
    "\n",
    "\n",
    "# word_word_word_word is up to you...\n",
    "# don't forget you can use + to join strings together\n",
    "def word4times(word):\n",
    "    reqstring=str(word+\" \"+word+\" \"+word+\" \"+word)\n",
    "    return reqstring\n",
    "#random program\n",
    "#offer=float(input(\"Please enter an amount for an offer!: \"))\n",
    "offer=int(input(\"Please enter an amount for an offer!: \"))\n",
    "while offer < 0:\n",
    "    print (\"offer must be positive\")\n",
    "#   offer=float(input(\"Please enter an amount for an offer!: \"))\n",
    "    offer=int(input(\"Please enter an amount for an offer!: \"))\n",
    "bettroffer=make_me_a_better_offer(offer)\n",
    "print (\"A better offer is: \")\n",
    "print (bettroffer)\n",
    "\n",
    "#start word program\n",
    "line2=input(\"Please enter a word: \")\n",
    "line3=word4times(line2)\n",
    "#print (line3)\n",
    "\n"
   ]
  }
 ],
 "metadata": {
  "kernelspec": {
   "display_name": "Python 3",
   "language": "python",
   "name": "python3"
  },
  "language_info": {
   "codemirror_mode": {
    "name": "ipython",
    "version": 3
   },
   "file_extension": ".py",
   "mimetype": "text/x-python",
   "name": "python",
   "nbconvert_exporter": "python",
   "pygments_lexer": "ipython3",
   "version": "3.7.6"
  }
 },
 "nbformat": 4,
 "nbformat_minor": 4
}
