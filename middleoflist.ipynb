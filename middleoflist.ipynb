{
 "cells": [
  {
   "cell_type": "code",
   "execution_count": 2,
   "metadata": {},
   "outputs": [
    {
     "name": "stdout",
     "output_type": "stream",
     "text": [
      "[2, 3]\n",
      "mia\n",
      "ron\n",
      "2\n",
      "mia\n"
     ]
    },
    {
     "data": {
      "text/plain": [
       "2"
      ]
     },
     "execution_count": 2,
     "metadata": {},
     "output_type": "execute_result"
    }
   ],
   "source": [
    "#find_middle.py\n",
    "def find_middle(req_list):\n",
    "     # find and return the middle element(s) of items\n",
    "     if len(req_list)%2==0: #modulus 2\n",
    "          #even number of elements\n",
    "          first_middle=int(len(req_list)/2)-1\n",
    "          #return req_list[first_middle]\n",
    "          second_middle=int(len(req_list)/2)\n",
    "          a=first_middle\n",
    "          b=second_middle\n",
    "          return [a,b] #return more than one answer\n",
    "          #return req_list[second_middle]\n",
    "     else:\n",
    "          first_middle=int(len(req_list)/2)\n",
    "          a=first_middle\n",
    "          return a\n",
    "    # return \n",
    "test_string=['val', 'bob', 'mia', 'ron', 'ned', 'alp']\n",
    "#req_middle=find_middle(['val', 'bob', 'mia', 'ron', 'ned', 'alp'])\n",
    "req_middle=find_middle(test_string)\n",
    "print (req_middle)\n",
    "print(test_string[req_middle[0]])\n",
    "print(test_string[req_middle[1]])\n",
    "###an odd value string\n",
    "test2_string=['val', 'bob', 'mia', 'ron', 'ned']\n",
    "req_middle2=find_middle(test2_string)\n",
    "print(req_middle2)\n",
    "print(test2_string[req_middle2])\n",
    "\n",
    "#*-------------------*\n",
    "#[2, 3]\n",
    "#mia\n",
    "#ron\n",
    "2\n",
    "#mia"
   ]
  },
  {
   "cell_type": "code",
   "execution_count": null,
   "metadata": {},
   "outputs": [],
   "source": []
  }
 ],
 "metadata": {
  "kernelspec": {
   "display_name": "Python 3",
   "language": "python",
   "name": "python3"
  },
  "language_info": {
   "codemirror_mode": {
    "name": "ipython",
    "version": 3
   },
   "file_extension": ".py",
   "mimetype": "text/x-python",
   "name": "python",
   "nbconvert_exporter": "python",
   "pygments_lexer": "ipython3",
   "version": "3.7.6"
  }
 },
 "nbformat": 4,
 "nbformat_minor": 4
}
