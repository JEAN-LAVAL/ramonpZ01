{
 "cells": [
  {
   "cell_type": "code",
   "execution_count": 1,
   "metadata": {},
   "outputs": [
    {
     "name": "stdout",
     "output_type": "stream",
     "text": [
      "Please enter your name: fr\n",
      "Please enter your age: 32\n",
      "Congratulations fr! You are eligible to sign up for a gym membership\n"
     ]
    }
   ],
   "source": [
    "#>>> Enter your name: Alex\n",
    "#>>> Enter your age: 12\n",
    "#Sorry Alex, you are ineligible to sign up for a gym membership. \n",
    "#*Italics indicate user input\n",
    "#In addition, if the person signing up for the membership is under 18 years of age, print:\n",
    "#>>> Enter your name: Emma\n",
    "#>>> Enter your age: 16\n",
    "#Congratulations Emma! You are eligible to sign up for a gym membership with a parent #signature.\n",
    "#Challenge: What if a user enters an invalid number as their age? Have your program make sure #that the age entered is a valid number. If the age entered is not valid, exit the program. Look into #how to use try/except statements, as well as exceptions in Python such as ValueError and #TypeError.\n",
    "#>>> Enter your name: Charles\n",
    "#>>> Enter your age: afsd\n",
    "#You entered an invalid age! Please try again.\n",
    "#*________________________________________________________________*\n",
    "#answer.py ED\n",
    "# Prompt a user to enter their name and age, and print whether or not that user is \n",
    "# eligible to sign up for a gym membership.req_\n",
    "entered_name=input(\"Please enter your name: \")\n",
    "entered_age=input(\"Please enter your age: \")\n",
    "try:\n",
    "       # entered_age = int(entered_age)\n",
    "       entered_age=int(entered_age)\n",
    "except ValueError: #if entered age not an int\n",
    "    print(f\"Sorry invalid age\")\n",
    "#\n",
    "else:\n",
    "    if (entered_age <= 12):\n",
    "        print(f\"Sorry {entered_name}, you are ineligible to sign up for a gym membership.\")\n",
    "    elif (entered_age < 18) :\n",
    "        print (f\"Congratulations {entered_name}! You are eligible to sign up for a gym membership with a parent signature.\")\n",
    "    elif (entered_age >= 18):\n",
    "        print (f\"Congratulations {entered_name}! You are eligible to sign up for a gym membership\")\n",
    "#req_name=input(\"Please enter your name: \")\n",
    "#req_age=input(\"Please enter your age: \")\n",
    "    else:\n",
    "      print(\"not yet\")\n",
    "#*--------------------------------------------*\n",
    "#Please enter your name: ploy\n",
    "#Please enter your age: okut\n",
    "#Sorry invalid age\n",
    "\n",
    "#Please enter your name: ref\n",
    "#Please enter your age: 10\n",
    "#Sorry ref, you are ineligible to sign up for a gym membership.\n",
    "\n",
    "#Please enter your name: wse\n",
    "#Please enter your age: 12\n",
    "#Sorry wse, you are ineligible to sign up for a gym membership.\n",
    "\n",
    "#Please enter your name: swe\n",
    "#Please enter your age: 18\n",
    "#Congratulations swe! You are eligible to sign up for a gym membership"
   ]
  }
 ],
 "metadata": {
  "kernelspec": {
   "display_name": "Python 3",
   "language": "python",
   "name": "python3"
  },
  "language_info": {
   "codemirror_mode": {
    "name": "ipython",
    "version": 3
   },
   "file_extension": ".py",
   "mimetype": "text/x-python",
   "name": "python",
   "nbconvert_exporter": "python",
   "pygments_lexer": "ipython3",
   "version": "3.7.6"
  }
 },
 "nbformat": 4,
 "nbformat_minor": 4
}
