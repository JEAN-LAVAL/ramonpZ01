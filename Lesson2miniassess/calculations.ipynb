{
 "cells": [
  {
   "cell_type": "code",
   "execution_count": 17,
   "metadata": {},
   "outputs": [
    {
     "name": "stdout",
     "output_type": "stream",
     "text": [
      "Hello\n",
      "10\n",
      "10.0\n",
      "10.00\n",
      "2\n",
      "1 + 1\n",
      "11\n",
      "Enter first number: 3\n",
      "Enter second number: 5\n",
      "3 + 5 = 35\n",
      "3 - 5 = -2\n",
      "3 * 5 = 15\n"
     ]
    }
   ],
   "source": [
    "#Integers and Strings\n",
    "#In Python, numbers and strings cannot be mixed together without converting one into the other. #For example, 0.5 is a number whereas \"0.5\" is a string. Every variable can hold either a string or #a number (or other things too which will be covered later). To keep things simple we will only look #at integers (whole numbers).\n",
    "#Look at these carefully to see the difference between strings and integers:\n",
    "#               # What you see:\n",
    "\n",
    "#print(Hello)   # Error! Strings need to be in single or double quotes.\n",
    "print(\"Hello\") # Hello\n",
    "\n",
    "print(10)      # 10\n",
    "print(10.00)   # 10\n",
    "print(\"10.00\") # 10.00 appears on the screen\n",
    "\n",
    "print(1 + 1)     # 2\n",
    "print(\"1 + 1\")   # 1 + 1\n",
    "print(\"1\" + \"1\") # 11\n",
    "#Challenge\n",
    "#Write a program which asks the user for two numbers, then adds, subtracts, and multiplies them. #The messages need to show what it is doing. You will need to use the input() function, but since i#t gives you a string, you should read about the int() function and the str() functions to learn #how to convert strings into numbers and back into strings!\n",
    "#E.g.\n",
    "#Enter first number: 7\n",
    "#Enter second number: 7\n",
    "\n",
    "#7 + 7 = 14\n",
    "#7 - 7 = 0\n",
    "#7 x 7 = 49\n",
    "#Or:\n",
    "first_number=input('Enter first number: ')\n",
    "second_number=input('Enter second number: ')\n",
    "\n",
    "#0 + -12 = -12\n",
    "#0 - -12 = 12\n",
    "#0 x -12 = 0\n",
    "#*_________________________________________________________*\n",
    "#calculations.py\n",
    "# figure out how to print a blank line here\n",
    "\n",
    "# use new variables here to contain numbers instead of strings\n",
    "plus_num =int( first_number + second_number)\n",
    "sub_num = int(first_number) - int(second_number)\n",
    "multiply_num = int(first_number)*int(second_number)\n",
    "string_firstnum= str(first_number)\n",
    "string_secondnum= str(second_number)\n",
    "string_plusnum=str(plus_num)\n",
    "string_subtractnum=str(sub_num)\n",
    "string_multiplynum=str(multiply_num)\n",
    "# use a new variable to store the sum\n",
    "\n",
    "\n",
    "#print(something + \" + \" + something + \" = \" + something)\n",
    "print(string_firstnum + \" + \" + string_secondnum  + \" = \" + string_plusnum)\n",
    "\n",
    "\n",
    "# **once you have that working,** proceed to the other two\n",
    "print(string_firstnum + \" - \" + string_secondnum  + \" = \" + string_subtractnum)\n",
    "#multiplication\n",
    "print(string_firstnum + \" * \" + string_secondnum  + \" = \" + string_multiplynum)"
   ]
  },
  {
   "cell_type": "code",
   "execution_count": null,
   "metadata": {},
   "outputs": [],
   "source": []
  }
 ],
 "metadata": {
  "kernelspec": {
   "display_name": "Python 3",
   "language": "python",
   "name": "python3"
  },
  "language_info": {
   "codemirror_mode": {
    "name": "ipython",
    "version": 3
   },
   "file_extension": ".py",
   "mimetype": "text/x-python",
   "name": "python",
   "nbconvert_exporter": "python",
   "pygments_lexer": "ipython3",
   "version": "3.7.6"
  }
 },
 "nbformat": 4,
 "nbformat_minor": 4
}
