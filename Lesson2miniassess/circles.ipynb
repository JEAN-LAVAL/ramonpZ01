{
 "cells": [
  {
   "cell_type": "code",
   "execution_count": 2,
   "metadata": {},
   "outputs": [
    {
     "name": "stdout",
     "output_type": "stream",
     "text": [
      "Please enter first radius in meteres: 2\n",
      "Please enter 2nd radius in metres: 1\n",
      "15.707963267948966\n"
     ]
    }
   ],
   "source": [
    "import math\n",
    "def circumference(radius):\n",
    "    return circm#something\n",
    "def area(radius):\n",
    "    aria=radius*radius*math.pi\n",
    "    return aria#something\n",
    "def total_area(radii):\n",
    "    counter1=0\n",
    "    #radii is a list\n",
    "    while counter1 <=1:\n",
    "        if counter1 == 0:\n",
    "            rac1=radii[0]\n",
    "            a=area(rac1)\n",
    "        if counter1==1:\n",
    "            rac2=radii[1]\n",
    "            b=area(rac2)\n",
    "        counter1=counter1+1\n",
    "    TotalAra=a+b\n",
    "    return TotalAra #something\n",
    "sizeradius=input(\"Please enter first radius in meteres: \")\n",
    "r1=float(sizeradius)\n",
    "sizeradius2=input(\"Please enter 2nd radius in metres: \")\n",
    "r2=float(sizeradius2)\n",
    "rlist=(r1,r2)\n",
    "reqarea=total_area(rlist)\n",
    "print(reqarea)\n"
   ]
  }
 ],
 "metadata": {
  "kernelspec": {
   "display_name": "Python 3",
   "language": "python",
   "name": "python3"
  },
  "language_info": {
   "codemirror_mode": {
    "name": "ipython",
    "version": 3
   },
   "file_extension": ".py",
   "mimetype": "text/x-python",
   "name": "python",
   "nbconvert_exporter": "python",
   "pygments_lexer": "ipython3",
   "version": "3.7.6"
  }
 },
 "nbformat": 4,
 "nbformat_minor": 4
}
