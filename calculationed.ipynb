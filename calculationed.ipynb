{
 "cells": [
  {
   "cell_type": "code",
   "execution_count": null,
   "metadata": {},
   "outputs": [],
   "source": [
    "#calculation.py ed\n",
    "# Here are some suggestions. You can do it another way if you like.\n",
    "\n",
    "first_str = input(\"Enter first number: \")\n",
    "first_number = int(first_str)\n",
    "# get second number the same way\n",
    "second_str = input(\"Enter second number: \")\n",
    "second_number = int(second_str)\n",
    "\n",
    "# figure out how to print a blank line here\n",
    "print(\"\")\n",
    "\n",
    "# use new variables here to contain numbers instead of strings\n",
    "plus_num = first_number + second_number\n",
    "subtract_num = first_number - second_number\n",
    "multiply_num = first_number*second_number\n",
    "string_firstnum= str(first_number)\n",
    "string_secondnum= str(second_number)\n",
    "string_plusnum=str(plus_num)\n",
    "string_subtractnum=str(subtract_num)\n",
    "string_multiplynum=str(multiply_num)\n",
    "# use a new variable to store the sum\n",
    "\n",
    "\n",
    "#print(something + \" + \" + something + \" = \" + something)\n",
    "print(string_firstnum + \" + \" + string_secondnum  + \" = \" + string_plusnum)\n",
    "\n",
    "\n",
    "# **once you have that working,** proceed to the other two\n",
    "print(string_firstnum + \" - \" + string_secondnum  + \" = \" + string_subtractnum)\n",
    "#multiplication\n",
    "print(string_firstnum + \" * \" + string_secondnum  + \" = \" + string_multiplynum)"
   ]
  }
 ],
 "metadata": {
  "kernelspec": {
   "display_name": "Python 3",
   "language": "python",
   "name": "python3"
  },
  "language_info": {
   "codemirror_mode": {
    "name": "ipython",
    "version": 3
   },
   "file_extension": ".py",
   "mimetype": "text/x-python",
   "name": "python",
   "nbconvert_exporter": "python",
   "pygments_lexer": "ipython3",
   "version": "3.7.6"
  }
 },
 "nbformat": 4,
 "nbformat_minor": 4
}
