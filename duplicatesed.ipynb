{
 "cells": [
  {
   "cell_type": "code",
   "execution_count": null,
   "metadata": {},
   "outputs": [],
   "source": [
    "#duplicatesed\n",
    "import pandas as pd\n",
    "def square_even_nums(n):\n",
    "\n",
    "     # return a list of squares for all even numbers in the range 0 to n\n",
    "     squares=[] #a list\n",
    "     for n in range(10):\n",
    "          if n%2==0 : #modulus 2 is 0 therefore an even number \n",
    "               squares.append(n**2)\n",
    "     z=squares\n",
    "     return z\n",
    "\n",
    "def remove_duplicates(names):\n",
    "    \n",
    "     # return a list of names with duplicates removed\n",
    "     names= list(dict.fromkeys(names))\n",
    "     reqnames=names\n",
    "     return reqnames\n",
    "j=4\n",
    "\n",
    "sqr=square_even_nums(j)\n",
    "print(sqr)\n",
    "##\n",
    "k=[]\n",
    "names_list=['ana','bella','cousin','dee','conci','elizabeth','fella','good','good','horse','it','horse']\n",
    "k=remove_duplicates(names_list)\n",
    "print(k)\n",
    "\n",
    "\n",
    "\n",
    "\n",
    "#mylist = [\"a\", \"b\", \"a\", \"c\", \"c\"]\n",
    "#mylist = list(dict.fromkeys(mylist))\n",
    "#print(mylist)"
   ]
  }
 ],
 "metadata": {
  "kernelspec": {
   "display_name": "Python 3",
   "language": "python",
   "name": "python3"
  },
  "language_info": {
   "codemirror_mode": {
    "name": "ipython",
    "version": 3
   },
   "file_extension": ".py",
   "mimetype": "text/x-python",
   "name": "python",
   "nbconvert_exporter": "python",
   "pygments_lexer": "ipython3",
   "version": "3.7.6"
  }
 },
 "nbformat": 4,
 "nbformat_minor": 4
}
